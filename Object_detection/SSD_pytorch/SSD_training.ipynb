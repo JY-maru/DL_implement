{
 "cells": [
  {
   "attachments": {},
   "cell_type": "markdown",
   "metadata": {},
   "source": [
    "# 학습 및 검증 실시\n",
    "\n",
    "- SSD 학습과 검증의 실시를 수행합니다. 로컬 머신으로 동작을 확인한 뒤, AWS의 GPU 머신으로 계산합니다.\n",
    "\n"
   ]
  },
  {
   "attachments": {},
   "cell_type": "markdown",
   "metadata": {},
   "source": [
    "\n",
    "\n",
    "1.\tSSD 학습을 구현한 내용입니다"
   ]
  },
  {
   "attachments": {},
   "cell_type": "markdown",
   "metadata": {},
   "source": [
    "# 사전 준비\n",
    "\n",
    "- AWS EC2의 GPU 인스턴스를 사용합니다\n",
    "- \"utils\" 폴더의 ssd_model.py를 실행합니다"
   ]
  },
  {
   "cell_type": "code",
   "execution_count": 9,
   "metadata": {},
   "outputs": [],
   "source": [
    "# 패키지 import\n",
    "import os.path as osp\n",
    "import random\n",
    "import time\n",
    "\n",
    "import cv2\n",
    "import numpy as np\n",
    "import pandas as pd\n",
    "import torch\n",
    "import torch.nn as nn\n",
    "import torch.nn.init as init\n",
    "import torch.optim as optim\n",
    "import torch.utils.data as data"
   ]
  },
  {
   "cell_type": "code",
   "execution_count": 10,
   "metadata": {},
   "outputs": [],
   "source": [
    "# 난수 시드 설정\n",
    "torch.manual_seed(1234)\n",
    "np.random.seed(1234)\n",
    "random.seed(1234)"
   ]
  },
  {
   "cell_type": "code",
   "execution_count": 11,
   "metadata": {},
   "outputs": [
    {
     "name": "stdout",
     "output_type": "stream",
     "text": [
      "사용 중인 장치: cuda:0\n"
     ]
    }
   ],
   "source": [
    "device = torch.device(\"cuda:0\" if torch.cuda.is_available() else \"cpu\")\n",
    "print(\"사용 중인 장치:\", device)"
   ]
  },
  {
   "attachments": {},
   "cell_type": "markdown",
   "metadata": {},
   "source": [
    "# Dataset과 DataLoader를 작성한다"
   ]
  },
  {
   "cell_type": "code",
   "execution_count": 12,
   "metadata": {},
   "outputs": [],
   "source": [
    "from utils.ssd_model import make_datapath_list, VOCDataset, DataTransform, Anno_xml2list, od_collate_fn\n",
    "\n",
    "# 파일 경로 리스트를 취득\n",
    "rootpath = \"./data/VOCdevkit/VOC2012/\"\n",
    "train_img_list, train_anno_list, val_img_list, val_anno_list = make_datapath_list(\n",
    "    rootpath)\n",
    "\n",
    "# Dataset 작성\n",
    "voc_classes = ['aeroplane', 'bicycle', 'bird', 'boat',\n",
    "               'bottle', 'bus', 'car', 'cat', 'chair',\n",
    "               'cow', 'diningtable', 'dog', 'horse',\n",
    "               'motorbike', 'person', 'pottedplant',\n",
    "               'sheep', 'sofa', 'train', 'tvmonitor']\n",
    "color_mean = (104, 117, 123)  # (BGR) 색의 평균값\n",
    "input_size = 300  # 이미지의 input 크기를 300×300으로 설정\n",
    "\n",
    "train_dataset = VOCDataset(train_img_list, train_anno_list, phase=\"train\", transform=DataTransform(\n",
    "    input_size, color_mean), transform_anno=Anno_xml2list(voc_classes))\n",
    "\n",
    "val_dataset = VOCDataset(val_img_list, val_anno_list, phase=\"val\", transform=DataTransform(\n",
    "    input_size, color_mean), transform_anno=Anno_xml2list(voc_classes))\n",
    "\n",
    "\n",
    "# DataLoader를 작성\n",
    "batch_size = 8\n",
    "\n",
    "train_dataloader = data.DataLoader(\n",
    "    train_dataset, batch_size=batch_size, shuffle=True, collate_fn=od_collate_fn)\n",
    "\n",
    "val_dataloader = data.DataLoader(\n",
    "    val_dataset, batch_size=batch_size, shuffle=False, collate_fn=od_collate_fn)\n",
    "\n",
    "# 사전 오브젝트로 정리\n",
    "dataloaders_dict = {\"train\": train_dataloader, \"val\": val_dataloader}\n"
   ]
  },
  {
   "attachments": {},
   "cell_type": "markdown",
   "metadata": {},
   "source": [
    "# 네트워크 모델을 작성한다"
   ]
  },
  {
   "cell_type": "code",
   "execution_count": 13,
   "metadata": {},
   "outputs": [
    {
     "name": "stdout",
     "output_type": "stream",
     "text": [
      "사용 중인 장치: cuda:0\n",
      "네트워크 설정 완료: 학습된 가중치를 로드했습니다\n"
     ]
    }
   ],
   "source": [
    "from utils.ssd_model import SSD\n",
    "\n",
    "# SSD300 설정\n",
    "ssd_cfg = {\n",
    "    'num_classes': 21,  # 배경 클래스를 포함한 총 클래스 수\n",
    "    'input_size': 300,  # 이미지의 입력 크기\n",
    "    'bbox_aspect_num': [4, 6, 6, 6, 4, 4],  # 출력할 DBox의 화면비의 종류\n",
    "    'feature_maps': [38, 19, 10, 5, 3, 1],  # 각 source의 이미지 크기\n",
    "    'steps': [8, 16, 32, 64, 100, 300],\n",
    "    'min_sizes': [30, 60, 111, 162, 213, 264],  # DBOX의 크기(최소)\n",
    "    'max_sizes': [60, 111, 162, 213, 264, 315],  # DBOX의 크기(최대)\n",
    "    'aspect_ratios': [[2], [2, 3], [2, 3], [2, 3], [2], [2]],\n",
    "}\n",
    "\n",
    "# SSD 네트워크 모델\n",
    "net = SSD(phase=\"train\", cfg=ssd_cfg)\n",
    "\n",
    "# SSD의 초기 가중치를 설정\n",
    "# ssd의 vgg 부분에 가중치를 로드한다\n",
    "vgg_weights = torch.load('weights/vgg16_reducedfc.pth')\n",
    "net.vgg.load_state_dict(vgg_weights)\n",
    "\n",
    "# ssd의 기타 네트워크의 가중치는 He의 초기치로 초기화\n",
    "def weights_init(m):\n",
    "    if isinstance(m, nn.Conv2d):\n",
    "        init.kaiming_normal_(m.weight.data)\n",
    "        if m.bias is not None:  # 바이어스 항이 있는 경우\n",
    "            nn.init.constant_(m.bias, 0.0)\n",
    "\n",
    "\n",
    "# He의 초기치를 적용\n",
    "net.extras.apply(weights_init)\n",
    "net.loc.apply(weights_init)\n",
    "net.conf.apply(weights_init)\n",
    "\n",
    "# GPU를 사용할 수 있는지 확인\n",
    "device = torch.device(\"cuda:0\" if torch.cuda.is_available() else \"cpu\")\n",
    "print(\"사용 중인 장치:\", device)\n",
    "\n",
    "print('네트워크 설정 완료: 학습된 가중치를 로드했습니다')\n"
   ]
  },
  {
   "attachments": {},
   "cell_type": "markdown",
   "metadata": {},
   "source": [
    "# 손실함수 및 최적화 기법의 설정"
   ]
  },
  {
   "cell_type": "code",
   "execution_count": 14,
   "metadata": {},
   "outputs": [],
   "source": [
    "from utils.ssd_model import MultiBoxLoss\n",
    "\n",
    "# 손실함수의 설정\n",
    "criterion = MultiBoxLoss(jaccard_thresh=0.5, neg_pos=3, device=device)\n",
    "\n",
    "# 최적화 기법의 설정\n",
    "optimizer = optim.SGD(net.parameters(), lr=1e-3,\n",
    "                      momentum=0.9, weight_decay=5e-4)\n"
   ]
  },
  {
   "attachments": {},
   "cell_type": "markdown",
   "metadata": {},
   "source": [
    "# 학습 및 검증을 실시"
   ]
  },
  {
   "cell_type": "code",
   "execution_count": 15,
   "metadata": {},
   "outputs": [],
   "source": [
    "import tqdm\n",
    "\n",
    "# 모델을 학습시키는 함수 작성\n",
    "def train_model(net, dataloaders_dict, criterion, optimizer, num_epochs):\n",
    "\n",
    "    # GPU를 사용할 수 있는지 확인\n",
    "    device = torch.device(\"cuda:0\" if torch.cuda.is_available() else \"cpu\")\n",
    "    print(\"사용 중인 장치:\", device)\n",
    "\n",
    "    # 네트워크를 GPU로\n",
    "    net.to(device)\n",
    "\n",
    "    # 네트워크가 어느 정도 고정되면, 고속화시킨다\n",
    "    torch.backends.cudnn.benchmark = True\n",
    "\n",
    "    # 반복자의 카운터 설정\n",
    "    iteration = 1\n",
    "    epoch_train_loss = 0.0  # epoch의 손실합\n",
    "    epoch_val_loss = 0.0  # epoch의 손실합\n",
    "    logs = []\n",
    "\n",
    "    # epoch 루프\n",
    "    for epoch in range(num_epochs+1):\n",
    "\n",
    "        # 시작 시간을 저장\n",
    "        t_epoch_start = time.time()\n",
    "        t_iter_start = time.time()\n",
    "\n",
    "        print('-------------')\n",
    "        print('Epoch {}/{}'.format(epoch+1, num_epochs))\n",
    "        print('-------------')\n",
    "\n",
    "        # epoch별 훈련 및 검증을 루프\n",
    "        for phase in ['train', 'val']:\n",
    "            if phase == 'train':\n",
    "                net.train()  # 모델을 훈련모드로\n",
    "                print('(train)')\n",
    "            else:\n",
    "                if((epoch+1) % 10 == 0):\n",
    "                    net.eval()   # 모델을 검증모드로\n",
    "                    print('-------------')\n",
    "                    print('(val)')\n",
    "                else:\n",
    "                    # 검증은 10번에 1번만 실시\n",
    "                    continue\n",
    "\n",
    "            # 데이터 로더에서 minibatch씩 꺼내 루프\n",
    "            iterator = tqdm.tqdm(dataloaders_dict[phase])\n",
    "            #for images, targets in dataloaders_dict[phase]:\n",
    "            for images, targets in iterator:\n",
    "                # GPU를 사용할 수 있으면, GPU에 데이터를 보낸다\n",
    "                images = images.to(device)\n",
    "                targets = [ann.to(device)\n",
    "                           for ann in targets]  # 리스트의 각 요소의 텐서를 GPU로\n",
    "\n",
    "                # optimizer를 초기화\n",
    "                optimizer.zero_grad()\n",
    "\n",
    "                # 순전파(forward) 계산\n",
    "                with torch.set_grad_enabled(phase == 'train'):\n",
    "                    # 순전파(forward) 계산\n",
    "                    outputs = net(images)\n",
    "\n",
    "                    # 손실 계산\n",
    "                    loss_l, loss_c = criterion(outputs, targets)\n",
    "                    loss = loss_l + loss_c\n",
    "\n",
    "                    # 훈련시에는 역전파(Backpropagation)\n",
    "                    if phase == 'train':\n",
    "                        loss.backward()  # 경사 계산\n",
    "\n",
    "                        # 경사가 너무 커지면 계산이 불안정해지므로, clip에서 최대라도 경사 2.0에 고정\n",
    "                        nn.utils.clip_grad_value_(\n",
    "                            net.parameters(), clip_value=2.0)\n",
    "\n",
    "                        optimizer.step()  # 파라미터 갱신\n",
    "\n",
    "                        #if (iteration % 10 == 0):  # 10iter에 한 번, loss를 표시\n",
    "                        t_iter_finish = time.time()\n",
    "                        duration = t_iter_finish - t_iter_start\n",
    "                        iterator.set_description('반복 {} || Loss: {:.4f} || 10iter: {:.4f} sec.'.format(\n",
    "                        iteration, loss.item(), duration))\n",
    "                        t_iter_start = time.time()\n",
    "\n",
    "                        epoch_train_loss += loss.item()\n",
    "                        iteration += 1\n",
    "\n",
    "                    # 검증시\n",
    "                    else:\n",
    "                        epoch_val_loss += loss.item()\n",
    "\n",
    "        # epoch의 phase 당 loss와 정답률\n",
    "        t_epoch_finish = time.time()\n",
    "        print('-------------')\n",
    "        print('epoch {} || Epoch_TRAIN_Loss:{:.4f} ||Epoch_VAL_Loss:{:.4f}'.format(\n",
    "            epoch+1, epoch_train_loss, epoch_val_loss))\n",
    "        print('timer:  {:.4f} sec.'.format(t_epoch_finish - t_epoch_start))\n",
    "        t_epoch_start = time.time()\n",
    "\n",
    "        # 로그를 저장\n",
    "        log_epoch = {'epoch': epoch+1,\n",
    "                     'train_loss': epoch_train_loss, 'val_loss': epoch_val_loss}\n",
    "        logs.append(log_epoch)\n",
    "        df = pd.DataFrame(logs)\n",
    "        df.to_csv(\"log_output.csv\")\n",
    "\n",
    "        epoch_train_loss = 0.0  # epoch의 손실합\n",
    "        epoch_val_loss = 0.0  # epoch의 손실합\n",
    "\n",
    "        # 네트워크를 저장한다\n",
    "        if ((epoch+1) % 50 == 0):\n",
    "            torch.save(net.state_dict(), 'weights/ssd300_' +\n",
    "                       str(epoch+1) + '.pth')\n"
   ]
  },
  {
   "cell_type": "code",
   "execution_count": 16,
   "metadata": {},
   "outputs": [
    {
     "name": "stdout",
     "output_type": "stream",
     "text": [
      "사용 중인 장치: cuda:0\n",
      "-------------\n",
      "Epoch 1/50\n",
      "-------------\n",
      "(train)\n"
     ]
    },
    {
     "name": "stderr",
     "output_type": "stream",
     "text": [
      "반복 715 || Loss: 9.1572 || 10iter: 10.6015 sec.: 100%|██████████| 715/715 [37:26<00:00,  3.14s/it]  \n"
     ]
    },
    {
     "name": "stdout",
     "output_type": "stream",
     "text": [
      "-------------\n",
      "epoch 1 || Epoch_TRAIN_Loss:6317.5546 ||Epoch_VAL_Loss:0.0000\n",
      "timer:  2246.1495 sec.\n",
      "-------------\n",
      "Epoch 2/50\n",
      "-------------\n",
      "(train)\n"
     ]
    },
    {
     "name": "stderr",
     "output_type": "stream",
     "text": [
      "반복 1430 || Loss: 6.0575 || 10iter: 0.2212 sec.: 100%|██████████| 715/715 [40:59<00:00,  3.44s/it]   \n"
     ]
    },
    {
     "name": "stdout",
     "output_type": "stream",
     "text": [
      "-------------\n",
      "epoch 2 || Epoch_TRAIN_Loss:5042.7311 ||Epoch_VAL_Loss:0.0000\n",
      "timer:  2459.1323 sec.\n",
      "-------------\n",
      "Epoch 3/50\n",
      "-------------\n",
      "(train)\n"
     ]
    },
    {
     "name": "stderr",
     "output_type": "stream",
     "text": [
      "반복 2145 || Loss: 5.9946 || 10iter: 0.1935 sec.: 100%|██████████| 715/715 [07:18<00:00,  1.63it/s]\n"
     ]
    },
    {
     "name": "stdout",
     "output_type": "stream",
     "text": [
      "-------------\n",
      "epoch 3 || Epoch_TRAIN_Loss:4567.2197 ||Epoch_VAL_Loss:0.0000\n",
      "timer:  438.4517 sec.\n",
      "-------------\n",
      "Epoch 4/50\n",
      "-------------\n",
      "(train)\n"
     ]
    },
    {
     "name": "stderr",
     "output_type": "stream",
     "text": [
      "반복 2860 || Loss: 5.7251 || 10iter: 0.1791 sec.: 100%|██████████| 715/715 [07:16<00:00,  1.64it/s]\n"
     ]
    },
    {
     "name": "stdout",
     "output_type": "stream",
     "text": [
      "-------------\n",
      "epoch 4 || Epoch_TRAIN_Loss:4284.8719 ||Epoch_VAL_Loss:0.0000\n",
      "timer:  436.3296 sec.\n",
      "-------------\n",
      "Epoch 5/50\n",
      "-------------\n",
      "(train)\n"
     ]
    },
    {
     "name": "stderr",
     "output_type": "stream",
     "text": [
      "반복 3575 || Loss: 6.3049 || 10iter: 0.1980 sec.: 100%|██████████| 715/715 [07:16<00:00,  1.64it/s]\n"
     ]
    },
    {
     "name": "stdout",
     "output_type": "stream",
     "text": [
      "-------------\n",
      "epoch 5 || Epoch_TRAIN_Loss:4058.0172 ||Epoch_VAL_Loss:0.0000\n",
      "timer:  436.2061 sec.\n",
      "-------------\n",
      "Epoch 6/50\n",
      "-------------\n",
      "(train)\n"
     ]
    },
    {
     "name": "stderr",
     "output_type": "stream",
     "text": [
      "반복 4290 || Loss: 5.7396 || 10iter: 0.1960 sec.: 100%|██████████| 715/715 [07:15<00:00,  1.64it/s]\n"
     ]
    },
    {
     "name": "stdout",
     "output_type": "stream",
     "text": [
      "-------------\n",
      "epoch 6 || Epoch_TRAIN_Loss:3866.9197 ||Epoch_VAL_Loss:0.0000\n",
      "timer:  435.6219 sec.\n",
      "-------------\n",
      "Epoch 7/50\n",
      "-------------\n",
      "(train)\n"
     ]
    },
    {
     "name": "stderr",
     "output_type": "stream",
     "text": [
      "반복 5005 || Loss: 4.7955 || 10iter: 0.1900 sec.: 100%|██████████| 715/715 [07:16<00:00,  1.64it/s]\n"
     ]
    },
    {
     "name": "stdout",
     "output_type": "stream",
     "text": [
      "-------------\n",
      "epoch 7 || Epoch_TRAIN_Loss:3779.7413 ||Epoch_VAL_Loss:0.0000\n",
      "timer:  436.3683 sec.\n",
      "-------------\n",
      "Epoch 8/50\n",
      "-------------\n",
      "(train)\n"
     ]
    },
    {
     "name": "stderr",
     "output_type": "stream",
     "text": [
      "반복 5720 || Loss: 5.4038 || 10iter: 0.1950 sec.: 100%|██████████| 715/715 [07:16<00:00,  1.64it/s]\n"
     ]
    },
    {
     "name": "stdout",
     "output_type": "stream",
     "text": [
      "-------------\n",
      "epoch 8 || Epoch_TRAIN_Loss:3622.6356 ||Epoch_VAL_Loss:0.0000\n",
      "timer:  436.3554 sec.\n",
      "-------------\n",
      "Epoch 9/50\n",
      "-------------\n",
      "(train)\n"
     ]
    },
    {
     "name": "stderr",
     "output_type": "stream",
     "text": [
      "반복 6435 || Loss: 5.2908 || 10iter: 0.1900 sec.: 100%|██████████| 715/715 [07:16<00:00,  1.64it/s]\n"
     ]
    },
    {
     "name": "stdout",
     "output_type": "stream",
     "text": [
      "-------------\n",
      "epoch 9 || Epoch_TRAIN_Loss:3505.6621 ||Epoch_VAL_Loss:0.0000\n",
      "timer:  436.5897 sec.\n",
      "-------------\n",
      "Epoch 10/50\n",
      "-------------\n",
      "(train)\n"
     ]
    },
    {
     "name": "stderr",
     "output_type": "stream",
     "text": [
      "반복 7150 || Loss: 5.4477 || 10iter: 0.1680 sec.: 100%|██████████| 715/715 [07:15<00:00,  1.64it/s]\n"
     ]
    },
    {
     "name": "stdout",
     "output_type": "stream",
     "text": [
      "-------------\n",
      "(val)\n"
     ]
    },
    {
     "name": "stderr",
     "output_type": "stream",
     "text": [
      "100%|██████████| 728/728 [02:59<00:00,  4.05it/s]\n"
     ]
    },
    {
     "name": "stdout",
     "output_type": "stream",
     "text": [
      "-------------\n",
      "epoch 10 || Epoch_TRAIN_Loss:3460.1083 ||Epoch_VAL_Loss:3456.6190\n",
      "timer:  615.5388 sec.\n",
      "-------------\n",
      "Epoch 11/50\n",
      "-------------\n",
      "(train)\n"
     ]
    },
    {
     "name": "stderr",
     "output_type": "stream",
     "text": [
      "반복 7865 || Loss: 4.6951 || 10iter: 0.1800 sec.: 100%|██████████| 715/715 [07:14<00:00,  1.65it/s]\n"
     ]
    },
    {
     "name": "stdout",
     "output_type": "stream",
     "text": [
      "-------------\n",
      "epoch 11 || Epoch_TRAIN_Loss:3358.5831 ||Epoch_VAL_Loss:0.0000\n",
      "timer:  434.2660 sec.\n",
      "-------------\n",
      "Epoch 12/50\n",
      "-------------\n",
      "(train)\n"
     ]
    },
    {
     "name": "stderr",
     "output_type": "stream",
     "text": [
      "반복 8580 || Loss: 5.3511 || 10iter: 0.1950 sec.: 100%|██████████| 715/715 [07:14<00:00,  1.65it/s]\n"
     ]
    },
    {
     "name": "stdout",
     "output_type": "stream",
     "text": [
      "-------------\n",
      "epoch 12 || Epoch_TRAIN_Loss:3296.2814 ||Epoch_VAL_Loss:0.0000\n",
      "timer:  434.2929 sec.\n",
      "-------------\n",
      "Epoch 13/50\n",
      "-------------\n",
      "(train)\n"
     ]
    },
    {
     "name": "stderr",
     "output_type": "stream",
     "text": [
      "반복 9295 || Loss: 4.9561 || 10iter: 0.1970 sec.: 100%|██████████| 715/715 [07:13<00:00,  1.65it/s]\n"
     ]
    },
    {
     "name": "stdout",
     "output_type": "stream",
     "text": [
      "-------------\n",
      "epoch 13 || Epoch_TRAIN_Loss:3218.1184 ||Epoch_VAL_Loss:0.0000\n",
      "timer:  433.8977 sec.\n",
      "-------------\n",
      "Epoch 14/50\n",
      "-------------\n",
      "(train)\n"
     ]
    },
    {
     "name": "stderr",
     "output_type": "stream",
     "text": [
      "반복 10010 || Loss: 4.2884 || 10iter: 0.1730 sec.: 100%|██████████| 715/715 [07:14<00:00,  1.65it/s]\n"
     ]
    },
    {
     "name": "stdout",
     "output_type": "stream",
     "text": [
      "-------------\n",
      "epoch 14 || Epoch_TRAIN_Loss:3169.8924 ||Epoch_VAL_Loss:0.0000\n",
      "timer:  434.0118 sec.\n",
      "-------------\n",
      "Epoch 15/50\n",
      "-------------\n",
      "(train)\n"
     ]
    },
    {
     "name": "stderr",
     "output_type": "stream",
     "text": [
      "반복 10725 || Loss: 4.5692 || 10iter: 0.1820 sec.: 100%|██████████| 715/715 [07:13<00:00,  1.65it/s]\n"
     ]
    },
    {
     "name": "stdout",
     "output_type": "stream",
     "text": [
      "-------------\n",
      "epoch 15 || Epoch_TRAIN_Loss:3123.8302 ||Epoch_VAL_Loss:0.0000\n",
      "timer:  433.8915 sec.\n",
      "-------------\n",
      "Epoch 16/50\n",
      "-------------\n",
      "(train)\n"
     ]
    },
    {
     "name": "stderr",
     "output_type": "stream",
     "text": [
      "반복 11440 || Loss: 4.1355 || 10iter: 0.2020 sec.: 100%|██████████| 715/715 [07:13<00:00,  1.65it/s]\n"
     ]
    },
    {
     "name": "stdout",
     "output_type": "stream",
     "text": [
      "-------------\n",
      "epoch 16 || Epoch_TRAIN_Loss:3085.5349 ||Epoch_VAL_Loss:0.0000\n",
      "timer:  433.8675 sec.\n",
      "-------------\n",
      "Epoch 17/50\n",
      "-------------\n",
      "(train)\n"
     ]
    },
    {
     "name": "stderr",
     "output_type": "stream",
     "text": [
      "반복 12155 || Loss: 6.2270 || 10iter: 0.2156 sec.: 100%|██████████| 715/715 [07:14<00:00,  1.65it/s]\n"
     ]
    },
    {
     "name": "stdout",
     "output_type": "stream",
     "text": [
      "-------------\n",
      "epoch 17 || Epoch_TRAIN_Loss:3049.4154 ||Epoch_VAL_Loss:0.0000\n",
      "timer:  434.1351 sec.\n",
      "-------------\n",
      "Epoch 18/50\n",
      "-------------\n",
      "(train)\n"
     ]
    },
    {
     "name": "stderr",
     "output_type": "stream",
     "text": [
      "반복 12870 || Loss: 3.3232 || 10iter: 0.1880 sec.: 100%|██████████| 715/715 [07:14<00:00,  1.65it/s]\n"
     ]
    },
    {
     "name": "stdout",
     "output_type": "stream",
     "text": [
      "-------------\n",
      "epoch 18 || Epoch_TRAIN_Loss:2985.0247 ||Epoch_VAL_Loss:0.0000\n",
      "timer:  434.1931 sec.\n",
      "-------------\n",
      "Epoch 19/50\n",
      "-------------\n",
      "(train)\n"
     ]
    },
    {
     "name": "stderr",
     "output_type": "stream",
     "text": [
      "반복 13585 || Loss: 4.6411 || 10iter: 0.2100 sec.: 100%|██████████| 715/715 [07:13<00:00,  1.65it/s]\n"
     ]
    },
    {
     "name": "stdout",
     "output_type": "stream",
     "text": [
      "-------------\n",
      "epoch 19 || Epoch_TRAIN_Loss:2939.7258 ||Epoch_VAL_Loss:0.0000\n",
      "timer:  433.8827 sec.\n",
      "-------------\n",
      "Epoch 20/50\n",
      "-------------\n",
      "(train)\n"
     ]
    },
    {
     "name": "stderr",
     "output_type": "stream",
     "text": [
      "반복 14300 || Loss: 5.5175 || 10iter: 0.1750 sec.: 100%|██████████| 715/715 [07:14<00:00,  1.65it/s]\n"
     ]
    },
    {
     "name": "stdout",
     "output_type": "stream",
     "text": [
      "-------------\n",
      "(val)\n"
     ]
    },
    {
     "name": "stderr",
     "output_type": "stream",
     "text": [
      "100%|██████████| 728/728 [02:54<00:00,  4.17it/s]\n"
     ]
    },
    {
     "name": "stdout",
     "output_type": "stream",
     "text": [
      "-------------\n",
      "epoch 20 || Epoch_TRAIN_Loss:2933.2472 ||Epoch_VAL_Loss:3070.5002\n",
      "timer:  608.6539 sec.\n",
      "-------------\n",
      "Epoch 21/50\n",
      "-------------\n",
      "(train)\n"
     ]
    },
    {
     "name": "stderr",
     "output_type": "stream",
     "text": [
      "반복 15015 || Loss: 3.4082 || 10iter: 0.1890 sec.: 100%|██████████| 715/715 [07:14<00:00,  1.65it/s]\n"
     ]
    },
    {
     "name": "stdout",
     "output_type": "stream",
     "text": [
      "-------------\n",
      "epoch 21 || Epoch_TRAIN_Loss:2896.2247 ||Epoch_VAL_Loss:0.0000\n",
      "timer:  434.4992 sec.\n",
      "-------------\n",
      "Epoch 22/50\n",
      "-------------\n",
      "(train)\n"
     ]
    },
    {
     "name": "stderr",
     "output_type": "stream",
     "text": [
      "반복 15730 || Loss: 3.8479 || 10iter: 0.1807 sec.: 100%|██████████| 715/715 [07:13<00:00,  1.65it/s]\n"
     ]
    },
    {
     "name": "stdout",
     "output_type": "stream",
     "text": [
      "-------------\n",
      "epoch 22 || Epoch_TRAIN_Loss:2817.3045 ||Epoch_VAL_Loss:0.0000\n",
      "timer:  433.8576 sec.\n",
      "-------------\n",
      "Epoch 23/50\n",
      "-------------\n",
      "(train)\n"
     ]
    },
    {
     "name": "stderr",
     "output_type": "stream",
     "text": [
      "반복 16445 || Loss: 3.4604 || 10iter: 0.1890 sec.: 100%|██████████| 715/715 [07:14<00:00,  1.65it/s]\n"
     ]
    },
    {
     "name": "stdout",
     "output_type": "stream",
     "text": [
      "-------------\n",
      "epoch 23 || Epoch_TRAIN_Loss:2847.1859 ||Epoch_VAL_Loss:0.0000\n",
      "timer:  434.3132 sec.\n",
      "-------------\n",
      "Epoch 24/50\n",
      "-------------\n",
      "(train)\n"
     ]
    },
    {
     "name": "stderr",
     "output_type": "stream",
     "text": [
      "반복 17160 || Loss: 3.6939 || 10iter: 0.1810 sec.: 100%|██████████| 715/715 [07:14<00:00,  1.65it/s]\n"
     ]
    },
    {
     "name": "stdout",
     "output_type": "stream",
     "text": [
      "-------------\n",
      "epoch 24 || Epoch_TRAIN_Loss:2800.4717 ||Epoch_VAL_Loss:0.0000\n",
      "timer:  434.2122 sec.\n",
      "-------------\n",
      "Epoch 25/50\n",
      "-------------\n",
      "(train)\n"
     ]
    },
    {
     "name": "stderr",
     "output_type": "stream",
     "text": [
      "반복 17875 || Loss: 4.4563 || 10iter: 0.1792 sec.: 100%|██████████| 715/715 [07:13<00:00,  1.65it/s]\n"
     ]
    },
    {
     "name": "stdout",
     "output_type": "stream",
     "text": [
      "-------------\n",
      "epoch 25 || Epoch_TRAIN_Loss:2764.4723 ||Epoch_VAL_Loss:0.0000\n",
      "timer:  433.8469 sec.\n",
      "-------------\n",
      "Epoch 26/50\n",
      "-------------\n",
      "(train)\n"
     ]
    },
    {
     "name": "stderr",
     "output_type": "stream",
     "text": [
      "반복 18590 || Loss: 4.5169 || 10iter: 0.1779 sec.: 100%|██████████| 715/715 [07:13<00:00,  1.65it/s]\n"
     ]
    },
    {
     "name": "stdout",
     "output_type": "stream",
     "text": [
      "-------------\n",
      "epoch 26 || Epoch_TRAIN_Loss:2720.9016 ||Epoch_VAL_Loss:0.0000\n",
      "timer:  433.8804 sec.\n",
      "-------------\n",
      "Epoch 27/50\n",
      "-------------\n",
      "(train)\n"
     ]
    },
    {
     "name": "stderr",
     "output_type": "stream",
     "text": [
      "반복 19305 || Loss: 4.1542 || 10iter: 0.1950 sec.: 100%|██████████| 715/715 [07:13<00:00,  1.65it/s]\n"
     ]
    },
    {
     "name": "stdout",
     "output_type": "stream",
     "text": [
      "-------------\n",
      "epoch 27 || Epoch_TRAIN_Loss:2709.6684 ||Epoch_VAL_Loss:0.0000\n",
      "timer:  433.7758 sec.\n",
      "-------------\n",
      "Epoch 28/50\n",
      "-------------\n",
      "(train)\n"
     ]
    },
    {
     "name": "stderr",
     "output_type": "stream",
     "text": [
      "반복 20020 || Loss: 3.3148 || 10iter: 0.1710 sec.: 100%|██████████| 715/715 [07:14<00:00,  1.65it/s]\n"
     ]
    },
    {
     "name": "stdout",
     "output_type": "stream",
     "text": [
      "-------------\n",
      "epoch 28 || Epoch_TRAIN_Loss:2704.5491 ||Epoch_VAL_Loss:0.0000\n",
      "timer:  434.0285 sec.\n",
      "-------------\n",
      "Epoch 29/50\n",
      "-------------\n",
      "(train)\n"
     ]
    },
    {
     "name": "stderr",
     "output_type": "stream",
     "text": [
      "반복 20735 || Loss: 3.8953 || 10iter: 0.1740 sec.: 100%|██████████| 715/715 [07:13<00:00,  1.65it/s]\n"
     ]
    },
    {
     "name": "stdout",
     "output_type": "stream",
     "text": [
      "-------------\n",
      "epoch 29 || Epoch_TRAIN_Loss:2663.4213 ||Epoch_VAL_Loss:0.0000\n",
      "timer:  433.6144 sec.\n",
      "-------------\n",
      "Epoch 30/50\n",
      "-------------\n",
      "(train)\n"
     ]
    },
    {
     "name": "stderr",
     "output_type": "stream",
     "text": [
      "반복 21450 || Loss: 3.1647 || 10iter: 0.2000 sec.: 100%|██████████| 715/715 [07:14<00:00,  1.65it/s]\n"
     ]
    },
    {
     "name": "stdout",
     "output_type": "stream",
     "text": [
      "-------------\n",
      "(val)\n"
     ]
    },
    {
     "name": "stderr",
     "output_type": "stream",
     "text": [
      "100%|██████████| 728/728 [02:54<00:00,  4.17it/s]\n"
     ]
    },
    {
     "name": "stdout",
     "output_type": "stream",
     "text": [
      "-------------\n",
      "epoch 30 || Epoch_TRAIN_Loss:2667.8479 ||Epoch_VAL_Loss:2920.1355\n",
      "timer:  609.0914 sec.\n",
      "-------------\n",
      "Epoch 31/50\n",
      "-------------\n",
      "(train)\n"
     ]
    },
    {
     "name": "stderr",
     "output_type": "stream",
     "text": [
      "반복 22165 || Loss: 4.0159 || 10iter: 0.1743 sec.: 100%|██████████| 715/715 [07:14<00:00,  1.65it/s]\n"
     ]
    },
    {
     "name": "stdout",
     "output_type": "stream",
     "text": [
      "-------------\n",
      "epoch 31 || Epoch_TRAIN_Loss:2597.2129 ||Epoch_VAL_Loss:0.0000\n",
      "timer:  434.3506 sec.\n",
      "-------------\n",
      "Epoch 32/50\n",
      "-------------\n",
      "(train)\n"
     ]
    },
    {
     "name": "stderr",
     "output_type": "stream",
     "text": [
      "반복 22880 || Loss: 2.9489 || 10iter: 0.1730 sec.: 100%|██████████| 715/715 [07:14<00:00,  1.65it/s]\n"
     ]
    },
    {
     "name": "stdout",
     "output_type": "stream",
     "text": [
      "-------------\n",
      "epoch 32 || Epoch_TRAIN_Loss:2621.3577 ||Epoch_VAL_Loss:0.0000\n",
      "timer:  434.1744 sec.\n",
      "-------------\n",
      "Epoch 33/50\n",
      "-------------\n",
      "(train)\n"
     ]
    },
    {
     "name": "stderr",
     "output_type": "stream",
     "text": [
      "반복 23595 || Loss: 3.4692 || 10iter: 0.1820 sec.: 100%|██████████| 715/715 [07:13<00:00,  1.65it/s]\n"
     ]
    },
    {
     "name": "stdout",
     "output_type": "stream",
     "text": [
      "-------------\n",
      "epoch 33 || Epoch_TRAIN_Loss:2578.8799 ||Epoch_VAL_Loss:0.0000\n",
      "timer:  433.7085 sec.\n",
      "-------------\n",
      "Epoch 34/50\n",
      "-------------\n",
      "(train)\n"
     ]
    },
    {
     "name": "stderr",
     "output_type": "stream",
     "text": [
      "반복 24310 || Loss: 4.4608 || 10iter: 0.1800 sec.: 100%|██████████| 715/715 [07:14<00:00,  1.65it/s]\n"
     ]
    },
    {
     "name": "stdout",
     "output_type": "stream",
     "text": [
      "-------------\n",
      "epoch 34 || Epoch_TRAIN_Loss:2559.7581 ||Epoch_VAL_Loss:0.0000\n",
      "timer:  434.0178 sec.\n",
      "-------------\n",
      "Epoch 35/50\n",
      "-------------\n",
      "(train)\n"
     ]
    },
    {
     "name": "stderr",
     "output_type": "stream",
     "text": [
      "반복 25025 || Loss: 2.7827 || 10iter: 0.2090 sec.: 100%|██████████| 715/715 [07:14<00:00,  1.65it/s]\n"
     ]
    },
    {
     "name": "stdout",
     "output_type": "stream",
     "text": [
      "-------------\n",
      "epoch 35 || Epoch_TRAIN_Loss:2581.2385 ||Epoch_VAL_Loss:0.0000\n",
      "timer:  434.4311 sec.\n",
      "-------------\n",
      "Epoch 36/50\n",
      "-------------\n",
      "(train)\n"
     ]
    },
    {
     "name": "stderr",
     "output_type": "stream",
     "text": [
      "반복 25740 || Loss: 3.2391 || 10iter: 0.1902 sec.: 100%|██████████| 715/715 [07:13<00:00,  1.65it/s]\n"
     ]
    },
    {
     "name": "stdout",
     "output_type": "stream",
     "text": [
      "-------------\n",
      "epoch 36 || Epoch_TRAIN_Loss:2525.2022 ||Epoch_VAL_Loss:0.0000\n",
      "timer:  433.3703 sec.\n",
      "-------------\n",
      "Epoch 37/50\n",
      "-------------\n",
      "(train)\n"
     ]
    },
    {
     "name": "stderr",
     "output_type": "stream",
     "text": [
      "반복 26455 || Loss: 3.5631 || 10iter: 0.1870 sec.: 100%|██████████| 715/715 [07:13<00:00,  1.65it/s]\n"
     ]
    },
    {
     "name": "stdout",
     "output_type": "stream",
     "text": [
      "-------------\n",
      "epoch 37 || Epoch_TRAIN_Loss:2508.8421 ||Epoch_VAL_Loss:0.0000\n",
      "timer:  433.6713 sec.\n",
      "-------------\n",
      "Epoch 38/50\n",
      "-------------\n",
      "(train)\n"
     ]
    },
    {
     "name": "stderr",
     "output_type": "stream",
     "text": [
      "반복 27170 || Loss: 2.9356 || 10iter: 0.2050 sec.: 100%|██████████| 715/715 [07:14<00:00,  1.65it/s]\n"
     ]
    },
    {
     "name": "stdout",
     "output_type": "stream",
     "text": [
      "-------------\n",
      "epoch 38 || Epoch_TRAIN_Loss:2488.3810 ||Epoch_VAL_Loss:0.0000\n",
      "timer:  434.3010 sec.\n",
      "-------------\n",
      "Epoch 39/50\n",
      "-------------\n",
      "(train)\n"
     ]
    },
    {
     "name": "stderr",
     "output_type": "stream",
     "text": [
      "반복 27885 || Loss: 4.4350 || 10iter: 0.2010 sec.: 100%|██████████| 715/715 [07:14<00:00,  1.65it/s]\n"
     ]
    },
    {
     "name": "stdout",
     "output_type": "stream",
     "text": [
      "-------------\n",
      "epoch 39 || Epoch_TRAIN_Loss:2496.5685 ||Epoch_VAL_Loss:0.0000\n",
      "timer:  434.0092 sec.\n",
      "-------------\n",
      "Epoch 40/50\n",
      "-------------\n",
      "(train)\n"
     ]
    },
    {
     "name": "stderr",
     "output_type": "stream",
     "text": [
      "반복 28600 || Loss: 3.8316 || 10iter: 0.1790 sec.: 100%|██████████| 715/715 [07:14<00:00,  1.65it/s]\n"
     ]
    },
    {
     "name": "stdout",
     "output_type": "stream",
     "text": [
      "-------------\n",
      "(val)\n"
     ]
    },
    {
     "name": "stderr",
     "output_type": "stream",
     "text": [
      "100%|██████████| 728/728 [02:54<00:00,  4.16it/s]\n"
     ]
    },
    {
     "name": "stdout",
     "output_type": "stream",
     "text": [
      "-------------\n",
      "epoch 40 || Epoch_TRAIN_Loss:2471.8181 ||Epoch_VAL_Loss:2743.3602\n",
      "timer:  608.9422 sec.\n",
      "-------------\n",
      "Epoch 41/50\n",
      "-------------\n",
      "(train)\n"
     ]
    },
    {
     "name": "stderr",
     "output_type": "stream",
     "text": [
      "반복 29315 || Loss: 4.2071 || 10iter: 0.2024 sec.: 100%|██████████| 715/715 [07:14<00:00,  1.65it/s]\n"
     ]
    },
    {
     "name": "stdout",
     "output_type": "stream",
     "text": [
      "-------------\n",
      "epoch 41 || Epoch_TRAIN_Loss:2446.4954 ||Epoch_VAL_Loss:0.0000\n",
      "timer:  434.0786 sec.\n",
      "-------------\n",
      "Epoch 42/50\n",
      "-------------\n",
      "(train)\n"
     ]
    },
    {
     "name": "stderr",
     "output_type": "stream",
     "text": [
      "반복 30030 || Loss: 3.6578 || 10iter: 0.1870 sec.: 100%|██████████| 715/715 [07:13<00:00,  1.65it/s]\n"
     ]
    },
    {
     "name": "stdout",
     "output_type": "stream",
     "text": [
      "-------------\n",
      "epoch 42 || Epoch_TRAIN_Loss:2426.0372 ||Epoch_VAL_Loss:0.0000\n",
      "timer:  433.7861 sec.\n",
      "-------------\n",
      "Epoch 43/50\n",
      "-------------\n",
      "(train)\n"
     ]
    },
    {
     "name": "stderr",
     "output_type": "stream",
     "text": [
      "반복 30745 || Loss: 3.3782 || 10iter: 0.2050 sec.: 100%|██████████| 715/715 [07:13<00:00,  1.65it/s]\n"
     ]
    },
    {
     "name": "stdout",
     "output_type": "stream",
     "text": [
      "-------------\n",
      "epoch 43 || Epoch_TRAIN_Loss:2440.0927 ||Epoch_VAL_Loss:0.0000\n",
      "timer:  433.9548 sec.\n",
      "-------------\n",
      "Epoch 44/50\n",
      "-------------\n",
      "(train)\n"
     ]
    },
    {
     "name": "stderr",
     "output_type": "stream",
     "text": [
      "반복 31460 || Loss: 4.0426 || 10iter: 0.2100 sec.: 100%|██████████| 715/715 [07:14<00:00,  1.65it/s]\n"
     ]
    },
    {
     "name": "stdout",
     "output_type": "stream",
     "text": [
      "-------------\n",
      "epoch 44 || Epoch_TRAIN_Loss:2400.9859 ||Epoch_VAL_Loss:0.0000\n",
      "timer:  434.4371 sec.\n",
      "-------------\n",
      "Epoch 45/50\n",
      "-------------\n",
      "(train)\n"
     ]
    },
    {
     "name": "stderr",
     "output_type": "stream",
     "text": [
      "반복 32175 || Loss: 3.8803 || 10iter: 0.1930 sec.: 100%|██████████| 715/715 [07:13<00:00,  1.65it/s]\n"
     ]
    },
    {
     "name": "stdout",
     "output_type": "stream",
     "text": [
      "-------------\n",
      "epoch 45 || Epoch_TRAIN_Loss:2404.6503 ||Epoch_VAL_Loss:0.0000\n",
      "timer:  433.2586 sec.\n",
      "-------------\n",
      "Epoch 46/50\n",
      "-------------\n",
      "(train)\n"
     ]
    },
    {
     "name": "stderr",
     "output_type": "stream",
     "text": [
      "반복 32890 || Loss: 3.7164 || 10iter: 0.1870 sec.: 100%|██████████| 715/715 [07:14<00:00,  1.65it/s]\n"
     ]
    },
    {
     "name": "stdout",
     "output_type": "stream",
     "text": [
      "-------------\n",
      "epoch 46 || Epoch_TRAIN_Loss:2373.9657 ||Epoch_VAL_Loss:0.0000\n",
      "timer:  434.1032 sec.\n",
      "-------------\n",
      "Epoch 47/50\n",
      "-------------\n",
      "(train)\n"
     ]
    },
    {
     "name": "stderr",
     "output_type": "stream",
     "text": [
      "반복 33605 || Loss: 4.2198 || 10iter: 0.1990 sec.: 100%|██████████| 715/715 [07:14<00:00,  1.65it/s]\n"
     ]
    },
    {
     "name": "stdout",
     "output_type": "stream",
     "text": [
      "-------------\n",
      "epoch 47 || Epoch_TRAIN_Loss:2361.4923 ||Epoch_VAL_Loss:0.0000\n",
      "timer:  434.0025 sec.\n",
      "-------------\n",
      "Epoch 48/50\n",
      "-------------\n",
      "(train)\n"
     ]
    },
    {
     "name": "stderr",
     "output_type": "stream",
     "text": [
      "반복 34320 || Loss: 4.1062 || 10iter: 0.1830 sec.: 100%|██████████| 715/715 [07:13<00:00,  1.65it/s]\n"
     ]
    },
    {
     "name": "stdout",
     "output_type": "stream",
     "text": [
      "-------------\n",
      "epoch 48 || Epoch_TRAIN_Loss:2353.2037 ||Epoch_VAL_Loss:0.0000\n",
      "timer:  433.7591 sec.\n",
      "-------------\n",
      "Epoch 49/50\n",
      "-------------\n",
      "(train)\n"
     ]
    },
    {
     "name": "stderr",
     "output_type": "stream",
     "text": [
      "반복 35035 || Loss: 3.5752 || 10iter: 0.1882 sec.: 100%|██████████| 715/715 [07:13<00:00,  1.65it/s]\n"
     ]
    },
    {
     "name": "stdout",
     "output_type": "stream",
     "text": [
      "-------------\n",
      "epoch 49 || Epoch_TRAIN_Loss:2347.0864 ||Epoch_VAL_Loss:0.0000\n",
      "timer:  433.3708 sec.\n",
      "-------------\n",
      "Epoch 50/50\n",
      "-------------\n",
      "(train)\n"
     ]
    },
    {
     "name": "stderr",
     "output_type": "stream",
     "text": [
      "반복 35750 || Loss: 3.0593 || 10iter: 0.1830 sec.: 100%|██████████| 715/715 [07:13<00:00,  1.65it/s]\n"
     ]
    },
    {
     "name": "stdout",
     "output_type": "stream",
     "text": [
      "-------------\n",
      "(val)\n"
     ]
    },
    {
     "name": "stderr",
     "output_type": "stream",
     "text": [
      "100%|██████████| 728/728 [02:54<00:00,  4.18it/s]\n"
     ]
    },
    {
     "name": "stdout",
     "output_type": "stream",
     "text": [
      "-------------\n",
      "epoch 50 || Epoch_TRAIN_Loss:2329.5179 ||Epoch_VAL_Loss:2679.0044\n",
      "timer:  607.9113 sec.\n",
      "-------------\n",
      "Epoch 51/50\n",
      "-------------\n",
      "(train)\n"
     ]
    },
    {
     "name": "stderr",
     "output_type": "stream",
     "text": [
      "반복 36465 || Loss: 3.5556 || 10iter: 0.2000 sec.: 100%|██████████| 715/715 [07:14<00:00,  1.65it/s]"
     ]
    },
    {
     "name": "stdout",
     "output_type": "stream",
     "text": [
      "-------------\n",
      "epoch 51 || Epoch_TRAIN_Loss:2323.2449 ||Epoch_VAL_Loss:0.0000\n",
      "timer:  434.0042 sec.\n"
     ]
    },
    {
     "name": "stderr",
     "output_type": "stream",
     "text": [
      "\n"
     ]
    }
   ],
   "source": [
    "# 학습 및 검증 실시\n",
    "num_epochs= 200 \n",
    "train_model(net, dataloaders_dict, criterion, optimizer, num_epochs=num_epochs)"
   ]
  },
  {
   "attachments": {},
   "cell_type": "markdown",
   "metadata": {},
   "source": [
    "끝"
   ]
  }
 ],
 "metadata": {
  "kernelspec": {
   "display_name": "Python 3",
   "language": "python",
   "name": "python3"
  },
  "language_info": {
   "codemirror_mode": {
    "name": "ipython",
    "version": 3
   },
   "file_extension": ".py",
   "mimetype": "text/x-python",
   "name": "python",
   "nbconvert_exporter": "python",
   "pygments_lexer": "ipython3",
   "version": "3.10.11"
  }
 },
 "nbformat": 4,
 "nbformat_minor": 4
}
